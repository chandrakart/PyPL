{
 "cells": [
  {
   "cell_type": "code",
   "execution_count": 4,
   "id": "ab34bb34-26c9-45cd-835f-6efcc209c1f2",
   "metadata": {
    "tags": []
   },
   "outputs": [
    {
     "name": "stdout",
     "output_type": "stream",
     "text": [
      "0\n"
     ]
    }
   ],
   "source": [
    "class Perceptron:\n",
    "    def __init__(self, epoch, learning_rate):\n",
    "        self.b = 0\n",
    "        self.w = {}\n",
    "        self.epochs = epoch\n",
    "        self.learning_rate = learning_rate\n",
    "        self.score = 0\n",
    "        \n",
    "    def inisialisasi(self,inputs):\n",
    "        for i in range(len(inputs[0])):\n",
    "            self.w['w'+str(i)] = 0\n",
    "            \n",
    "    def train(self,inputs,label):\n",
    "        self.inisialisasi(inputs)\n",
    "\n",
    "        for epoch in range(self.epochs):\n",
    "            for input, target in zip(inputs,label):\n",
    "                y_in = 0\n",
    "                for index, x in enumerate(input):\n",
    "                    y_in = y_in + (x*self.w['w'+str(index)])\n",
    "                y_in = y_in + self.b\n",
    "\n",
    "                aktivasi = lambda x: 1 if x>=0 else 0 #aktivasi biner\n",
    "                if aktivasi(y_in) != label:\n",
    "                    error = target - aktivasi(y_in)\n",
    "                    for index, x in enumerate(input):\n",
    "                        self.w['w'+str(index)] = self.w['w'+str(index)] + (self.learning_rate*error*x)\n",
    "                    self.b = self.b + (self.learning_rate*error)\n",
    "                    \n",
    "    def predict(self,x):\n",
    "        y_in = 0\n",
    "        for index, input in enumerate(x):\n",
    "            y_in = y_in +(input*self.w['w'+str(index)])\n",
    "        y_in = y_in + self.b\n",
    "            \n",
    "        aktivasi = lambda x : 1 if x >= 0 else 0 #aktivasi biner\n",
    "        \n",
    "        return aktivasi(y_in)\n",
    "        \n",
    "X = [[0,0],[0,1],[1,0],[1,1]]\n",
    "y = [0,0,0,1]\n",
    "epoch = 10\n",
    "learning_rate = 1\n",
    "\n",
    "P = Perceptron(10,1)\n",
    "P.train(X,y)\n",
    "result = P.predict([1,0])\n",
    "\n",
    "print(result)"
   ]
  },
  {
   "cell_type": "code",
   "execution_count": null,
   "id": "ca842b46-16b4-4d77-a84f-432c16e4c5b7",
   "metadata": {},
   "outputs": [],
   "source": []
  }
 ],
 "metadata": {
  "kernelspec": {
   "display_name": "Python 3 (ipykernel)",
   "language": "python",
   "name": "python3"
  },
  "language_info": {
   "codemirror_mode": {
    "name": "ipython",
    "version": 3
   },
   "file_extension": ".py",
   "mimetype": "text/x-python",
   "name": "python",
   "nbconvert_exporter": "python",
   "pygments_lexer": "ipython3",
   "version": "3.11.5"
  }
 },
 "nbformat": 4,
 "nbformat_minor": 5
}
