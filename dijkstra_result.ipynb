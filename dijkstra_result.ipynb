{
 "cells": [
  {
   "cell_type": "code",
   "execution_count": 10,
   "id": "29a0d456-feeb-482b-b18e-d08179ebd689",
   "metadata": {
    "tags": []
   },
   "outputs": [
    {
     "name": "stdout",
     "output_type": "stream",
     "text": [
      "({'a': 0, 'b': 7, 'c': 9, 'f': 11, 'd': 20, 'e': 20}, {'b': 'a', 'c': 'a', 'f': 'c', 'd': 'c', 'e': 'f'})\n"
     ]
    }
   ],
   "source": [
    "from collections import defaultdict\n",
    "\n",
    "class Graph:\n",
    "    def __init__(self):\n",
    "        self.nodes = set()\n",
    "        self.edges = defaultdict(list)\n",
    "        self.distances = {}\n",
    "\n",
    "    def add_node(self, value):\n",
    "        self.nodes.add(value)\n",
    "\n",
    "    def add_edge(self, from_node, to_node, distance):\n",
    "        self.edges[from_node].append(to_node)\n",
    "        self.edges[to_node].append(from_node)\n",
    "        self.distances[(from_node, to_node)] = distance\n",
    "\n",
    "    def dijkstra(self, initial):\n",
    "        visited = {initial: 0}\n",
    "        path = {}\n",
    "\n",
    "        nodes = set(self.nodes)\n",
    "        while nodes:\n",
    "            min_node = None\n",
    "            for node in nodes:\n",
    "                if node in visited:\n",
    "                    if min_node is None:\n",
    "                        min_node = node\n",
    "                    elif visited[node] < visited[min_node]:\n",
    "                        min_node = node\n",
    "\n",
    "            if min_node is None:\n",
    "                break\n",
    "\n",
    "            nodes.remove(min_node)\n",
    "            current_weight = visited[min_node]\n",
    "\n",
    "            for edge in self.edges[min_node]:\n",
    "                weight = current_weight + self.distances[(min_node, edge)]\n",
    "                if edge not in visited or weight < visited[edge]:\n",
    "                    visited[edge] = weight\n",
    "                    path[edge] = min_node\n",
    "\n",
    "        return visited, path\n",
    "\n",
    "g = Graph()\n",
    "\n",
    "g.add_node('a')\n",
    "g.add_node('b')\n",
    "g.add_node('c')\n",
    "g.add_node('d')\n",
    "g.add_node('e')\n",
    "g.add_node('f')\n",
    "\n",
    "g.add_edge('a', 'b', 7)\n",
    "g.add_edge('a', 'c', 9)\n",
    "g.add_edge('a', 'f', 14)\n",
    "g.add_edge('b', 'd', 15)\n",
    "g.add_edge('b', 'a', 7)\n",
    "g.add_edge('b', 'c', 10)\n",
    "g.add_edge('c', 'f', 2)\n",
    "g.add_edge('c', 'a', 9)\n",
    "g.add_edge('c', 'b', 10)\n",
    "g.add_edge('c', 'd', 11)\n",
    "g.add_edge('d', 'e', 6)\n",
    "g.add_edge('d', 'b', 15)\n",
    "g.add_edge('d', 'c', 11)\n",
    "g.add_edge('e', 'd', 6)\n",
    "g.add_edge('e', 'f', 9)\n",
    "g.add_edge('f', 'c', 2)\n",
    "g.add_edge('f', 'e', 9)\n",
    "g.add_edge('f', 'a', 14)\n",
    "\n",
    "\n",
    "result = g.dijkstra('a')\n",
    "print(result)"
   ]
  }
 ],
 "metadata": {
  "kernelspec": {
   "display_name": "Python 3 (ipykernel)",
   "language": "python",
   "name": "python3"
  },
  "language_info": {
   "codemirror_mode": {
    "name": "ipython",
    "version": 3
   },
   "file_extension": ".py",
   "mimetype": "text/x-python",
   "name": "python",
   "nbconvert_exporter": "python",
   "pygments_lexer": "ipython3",
   "version": "3.11.5"
  }
 },
 "nbformat": 4,
 "nbformat_minor": 5
}
