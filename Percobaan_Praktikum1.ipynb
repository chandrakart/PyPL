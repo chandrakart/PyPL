{
 "cells": [
  {
   "cell_type": "code",
   "execution_count": null,
   "id": "7bd6f909-caad-4db9-9070-6913781309b4",
   "metadata": {
    "tags": []
   },
   "outputs": [],
   "source": [
    "DAG = {'A': {'C': 4, 'G': 9},\n",
    "'G': {'E': 6},\n",
    "'C': {'D': 6, 'H': 12},\n",
    "'D': {'E': 7},\n",
    "'H': {'F': 15},\n",
    "'E': {'F': 8},\n",
    "'F': {'B': 5}}"
   ]
  },
  {
   "cell_type": "code",
   "execution_count": 2,
   "id": "c93e62ea-4df4-4cf1-b2ff-52f0108311a6",
   "metadata": {},
   "outputs": [
    {
     "name": "stdout",
     "output_type": "stream",
     "text": [
      "['A', 'C', 'D', 'E', 'F', 'B']\n"
     ]
    }
   ],
   "source": [
    "def shortest_path(graph, source, dest):\n",
    "    result = []\n",
    "    result.append(source)\n",
    "\n",
    "    while dest not in result:\n",
    "        current_node = result[-1]\n",
    "        local_max = min(graph[current_node].values())\n",
    "\n",
    "        for node, weight in graph[current_node].items():\n",
    "            if weight == local_max:\n",
    "                result.append(node)\n",
    "\n",
    "    return result\n",
    "\n",
    "source = 'A'\n",
    "dest = 'B'\n",
    "path = shortest_path(DAG, source, dest)\n",
    "print(path)"
   ]
  },
  {
   "cell_type": "code",
   "execution_count": null,
   "id": "8e35ce16-1a10-46c4-b9cb-ee1d52405c7e",
   "metadata": {},
   "outputs": [],
   "source": []
  }
 ],
 "metadata": {
  "kernelspec": {
   "display_name": "Python 3 (ipykernel)",
   "language": "python",
   "name": "python3"
  },
  "language_info": {
   "codemirror_mode": {
    "name": "ipython",
    "version": 3
   },
   "file_extension": ".py",
   "mimetype": "text/x-python",
   "name": "python",
   "nbconvert_exporter": "python",
   "pygments_lexer": "ipython3",
   "version": "3.11.5"
  }
 },
 "nbformat": 4,
 "nbformat_minor": 5
}
