{
 "cells": [
  {
   "cell_type": "code",
   "execution_count": 1,
   "id": "b701aee5-9470-4679-ae61-995dee9c7fb0",
   "metadata": {},
   "outputs": [],
   "source": [
    "from operator import itemgetter, attrgetter\n",
    "w = [3,4,1,7,6,8,9]\n",
    "p = [4,5,2,5,5,8,11]\n",
    "item = [[3,4],[4,5],[1,2],[7,5],[6,5],[8,8],[9,11]]"
   ]
  },
  {
   "cell_type": "code",
   "execution_count": 2,
   "id": "dd550398-68ab-4fc5-b9f5-1a11530d1a86",
   "metadata": {
    "tags": []
   },
   "outputs": [
    {
     "name": "stdout",
     "output_type": "stream",
     "text": [
      "9\n",
      "8\n",
      "3\n",
      "Optimal dalam Bobot prioritas : 23\n",
      "9\n",
      "8\n",
      "3\n",
      "Optimal dalam Keuntungan prioritas : 23\n",
      "1\n",
      "3\n",
      "4\n",
      "9\n",
      "Optimal dalam p prioritas: 22\n"
     ]
    }
   ],
   "source": [
    "i = 0\n",
    "while i < len(item):\n",
    "    hasil = item[i][1]/item[i][0]\n",
    "    item[i].append(hasil)\n",
    "    i += 1\n",
    "\n",
    "data = sorted(item,key=itemgetter(2), reverse = True)\n",
    "    \n",
    "def knapsack(data,cap,flag):\n",
    "    total = 0\n",
    "    tres = \"\"\n",
    "    if(flag==0):\n",
    "        dataS = sorted(data,key=itemgetter(flag), reverse = True)\n",
    "        tres=\"Bobot prioritas : \"\n",
    "    elif(flag==1):\n",
    "        dataS = sorted(data,key=itemgetter(flag), reverse = True)\n",
    "        tres=\"Keuntungan prioritas : \"\n",
    "    elif(flag==2):\n",
    "        dataS = sorted(data, key=itemgetter(flag), reverse = True)\n",
    "        tres=\"p prioritas: \"\n",
    "    else:\n",
    "        return \"Error\"\n",
    "    \n",
    "    j=0\n",
    "    hasil=0\n",
    "    #print(\"sini\")\n",
    "    cek=0\n",
    "    weight=0\n",
    "    while(j<len(dataS)):\n",
    "            \n",
    "        if(cek+dataS[j][0]<=cap):\n",
    "            hasil=hasil+dataS[j][1]\n",
    "            weight=weight+dataS[j][0]\n",
    "            print(dataS[j][0])\n",
    "        cek=weight\n",
    "        j+=1;\n",
    "        #print(\"here\")\n",
    "    return(\"Optimal dalam \"+str(tres)+str(hasil))\n",
    "\n",
    "print(knapsack(item,20,0))\n",
    "print(knapsack(item,20,1))\n",
    "print(knapsack(item,20,2))"
   ]
  },
  {
   "cell_type": "code",
   "execution_count": null,
   "id": "a9f92e88-6855-4506-b251-494622b85b88",
   "metadata": {},
   "outputs": [],
   "source": []
  }
 ],
 "metadata": {
  "kernelspec": {
   "display_name": "Python 3 (ipykernel)",
   "language": "python",
   "name": "python3"
  },
  "language_info": {
   "codemirror_mode": {
    "name": "ipython",
    "version": 3
   },
   "file_extension": ".py",
   "mimetype": "text/x-python",
   "name": "python",
   "nbconvert_exporter": "python",
   "pygments_lexer": "ipython3",
   "version": "3.11.5"
  }
 },
 "nbformat": 4,
 "nbformat_minor": 5
}
